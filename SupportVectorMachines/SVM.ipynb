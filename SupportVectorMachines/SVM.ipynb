{
 "cells": [
  {
   "cell_type": "code",
   "execution_count": 146,
   "metadata": {
    "collapsed": false,
    "deletable": true,
    "editable": true
   },
   "outputs": [
    {
     "name": "stdout",
     "output_type": "stream",
     "text": [
      "50 50\n"
     ]
    },
    {
     "data": {
      "image/png": "[encoded data removed]",
      "text/plain": [
       "<matplotlib.figure.Figure at 0x107766fd0>"
      ]
     },
     "metadata": {},
     "output_type": "display_data"
    }
   ],
   "source": [
    "# Might be very buggy, ported from simplified SMO algorithm, kernel is gaussian\n",
    "import csv\n",
    "import matplotlib.pyplot as plt\n",
    "import random\n",
    "from math import exp, log\n",
    "\n",
    "num_epochs = 5\n",
    "ax_size = (-3, 3, -3, 3)\n",
    "data_file_name = 'dataset1.csv'\n",
    "X = []\n",
    "Y = []\n",
    "Xpos = []\n",
    "Xneg = []\n",
    "Ypos = []\n",
    "Yneg = []\n",
    "\n",
    "csv_reader = csv.DictReader(open(data_file_name))\n",
    "for row in csv_reader:\n",
    "    x = (float(row['x1']), float(row['x2']))\n",
    "    y = float(row['y'])\n",
    "    X.append(x)\n",
    "    y = -1.0 if y == 0 else 1.0\n",
    "    Y.append(y)\n",
    "\n",
    "xy = zip(X, Y)\n",
    "random.shuffle(xy)\n",
    "X, Y = zip(*xy)\n",
    "\n",
    "for x, y in xy:\n",
    "    Xneg.append(x) if y == -1.0 else Xpos.append(x)\n",
    "    Yneg.append(y) if y == -1.0 else Ypos.append(y)\n",
    "    \n",
    "print len(Xpos), len(Xneg)\n",
    "\n",
    "plt.figure(figsize=(15, 10))\n",
    "plt.axis(ax_size)\n",
    "x1pos, x2pos = zip(*Xpos)\n",
    "x1neg, x2neg = zip(*Xneg)\n",
    "plt.scatter(x1pos, x2pos, marker=('o'), s=50)\n",
    "plt.scatter(x1neg, x2neg, marker=('x'), s=50)\n",
    "plt.show()\n",
    "\n",
    "split_idx = int(0.8 * len(Xpos))\n",
    "X_train = Xpos[:split_idx]\n",
    "Y_train = Ypos[:split_idx]\n",
    "X_test = Xpos[split_idx:]\n",
    "Y_test = Ypos[split_idx:]\n",
    "\n",
    "split_idx = int(0.8 * len(Xneg))\n",
    "X_train += Xneg[:split_idx]\n",
    "Y_train += Yneg[:split_idx]\n",
    "X_test += Xneg[split_idx:]\n",
    "Y_test += Yneg[split_idx:]\n",
    "\n",
    "random.shuffle(X_train)\n",
    "random.shuffle(X_test)\n",
    "random.shuffle(Y_train)\n",
    "random.shuffle(Y_test)"
   ]
  },
  {
   "cell_type": "code",
   "execution_count": 154,
   "metadata": {
    "collapsed": true,
    "deletable": true,
    "editable": true
   },
   "outputs": [],
   "source": [
    "# Gaussian Kernel\n",
    "kernel = lambda x1, x2, sigma: exp(-sum([(float(a - b) ** 2) for a, b in zip(x1, x2)])/(2 * (sigma ** 2)))\n",
    "SIGMA = 0.8\n",
    "C = 1\n",
    "model = None\n",
    "\n",
    "class SVMModel:\n",
    "    def __init__(self, _x, _y, _kernel, _b, _alphas, _w, _sigma):\n",
    "        self.x = _x\n",
    "        self.y = _y\n",
    "        self.kernel = _kernel\n",
    "        self.b = _b\n",
    "        self.alphas = _alphas\n",
    "        self.w = _w # This will be a row vector not a column vector\n",
    "        self.sigma = _sigma"
   ]
  },
  {
   "cell_type": "code",
   "execution_count": 155,
   "metadata": {
    "collapsed": false,
    "deletable": true,
    "editable": true
   },
   "outputs": [],
   "source": [
    "def train(_X, _Y, _kernel, _sigma, _C, epochs):\n",
    "    tol = 0.001\n",
    "    m = len(_X)\n",
    "    n = len(_X[0])\n",
    "    alphas = [0 for _ in range(m)]\n",
    "    b = 0\n",
    "    E = [0 for _ in range(m)]\n",
    "    passes = 0\n",
    "    eta = 0\n",
    "    L = 0\n",
    "    H = 0\n",
    "    K = [[0 for _j in range(m)] for _i in range(m)]\n",
    "    for i in range(m):\n",
    "        for j in range(i, m):\n",
    "            K[i][j] = K[j][i] = _kernel(_X[i], _X[j], _sigma)\n",
    "    \n",
    "    print \"Training ...\"\n",
    "    while passes < epochs:\n",
    "        num_changed_alphas = 0\n",
    "        for i in range(m):\n",
    "            tmp = [(alphas[_j] * _Y[_j] * K[_j][i]) for _j in range(m)]\n",
    "            E[i] = b + sum(tmp) - Y[i]\n",
    "            if (Y[i] * E[i] < -tol and alphas[i] < _C) or (Y[i] * E[i] > tol and alphas[i] > 0):\n",
    "                \n",
    "                j = random.randint(0 , m - 1)\n",
    "                while j == i:\n",
    "                    j = random.randint(0 , m - 1)\n",
    "                \n",
    "                tmp = [(alphas[_j] * _Y[_j] * K[_j][j]) for _j in range(m)]\n",
    "                E[j] = b + sum(tmp) - Y[j]\n",
    "                \n",
    "                alpha_i_old = alphas[i];\n",
    "                alpha_j_old = alphas[j];\n",
    "                \n",
    "                if Y[i] == Y[j]:\n",
    "                    L = max(0, alphas[j] + alphas[i] - C)\n",
    "                    H = min(C, alphas[j] + alphas[i])\n",
    "                else:\n",
    "                    L = max(0, alphas[j] - alphas[i])\n",
    "                    H = min(C, C + alphas[j] - alphas[i])\n",
    "                \n",
    "                if L == H:\n",
    "                    continue\n",
    "                    \n",
    "                eta = 2 * K[i][j] - K[i][i] - K[j][j]\n",
    "                if eta >= 0:\n",
    "                    conitnue\n",
    "                    \n",
    "                alphas[j] = alphas[j] - (Y[j] * (E[i] - E[j])) / eta;\n",
    "                \n",
    "                alphas[j] = min(H, alphas[j]);\n",
    "                alphas[j] = max(L, alphas[j]);\n",
    "                \n",
    "                if abs(alphas[j] - alpha_j_old) < tol:\n",
    "                    alphas[j] = alpha_j_old\n",
    "                    continue\n",
    "                \n",
    "                alphas[i] = alphas[i] + Y[i] * Y[j] * (alpha_j_old - alphas[j])\n",
    "                b1 = b - E[i] - Y[i] * (alphas[i] - alpha_i_old) * K[i][j] - Y[j] * (alphas[j] - alpha_j_old) * K[i][j]\n",
    "                b2 = b - E[j] - Y[i] * (alphas[i] - alpha_i_old) * K[i][j] - Y[j] * (alphas[j] - alpha_j_old) * K[j][j]\n",
    "                \n",
    "                if 0 < alphas[i] < C:\n",
    "                    b = b1\n",
    "                elif 0 < alphas[j] < C:\n",
    "                    b = b2\n",
    "                else:\n",
    "                    b = (b1 + b2)/2\n",
    "                    \n",
    "                num_changed_alphas = num_changed_alphas + 1\n",
    "        \n",
    "        if num_changed_alphas == 0:\n",
    "            passes += 1\n",
    "        else:\n",
    "            passes = 0\n",
    "\n",
    "    tmp = [alphas[_j] * _Y[_j] for _j in range(m)]\n",
    "    w = [0.0 for _j in range(n)]\n",
    "    _Xapos = []\n",
    "    _Yapos = []\n",
    "    _alphapos = []\n",
    "    for _i, alpha in enumerate(alphas):\n",
    "        if alpha > 0:\n",
    "            _Xapos.append(_X[_i])\n",
    "            _Yapos.append(_Y[_i])\n",
    "            _alphapos.append(alphas[_i])\n",
    "    \n",
    "    for _i in range(n):\n",
    "        for _j in range(m):\n",
    "            w[_i] += tmp[_j] * _X[_j][_i]\n",
    "    print \"Done\"\n",
    "    return SVMModel(_Xapos, _Yapos, _kernel, b, _alphapos, w, _sigma)"
   ]
  },
  {
   "cell_type": "code",
   "execution_count": 156,
   "metadata": {
    "collapsed": false,
    "deletable": true,
    "editable": true
   },
   "outputs": [
    {
     "name": "stdout",
     "output_type": "stream",
     "text": [
      "Training ...\n",
      "Done\n"
     ]
    }
   ],
   "source": [
    "model = train(_X=X_train, _Y=Y_train, _kernel=kernel, _sigma=SIGMA, _C=C, epochs=1000)"
   ]
  },
  {
   "cell_type": "code",
   "execution_count": 157,
   "metadata": {
    "collapsed": true
   },
   "outputs": [],
   "source": [
    "def predict(_model, _x):\n",
    "    preds = [0 for _ in range(len(_x))]\n",
    "    for i in range(len(_x)):\n",
    "        prediction = 0\n",
    "        for j in range(len(model.x)):\n",
    "            prediction = prediction + model.alphas[j] * model.y[j] * model.kernel(_x[i], model.x[j], model.sigma)\n",
    "        preds[i] = prediction + model.b;\n",
    "        preds[i] = -1.0 if preds[i] < 0 else 1.0\n",
    "    return preds"
   ]
  },
  {
   "cell_type": "code",
   "execution_count": 158,
   "metadata": {
    "collapsed": false
   },
   "outputs": [
    {
     "name": "stdout",
     "output_type": "stream",
     "text": [
      "[1.0, -1.0, 1.0, 1.0, 1.0, -1.0, -1.0, 1.0, 1.0, -1.0, 1.0, -1.0, 1.0, 1.0, -1.0, -1.0, -1.0, -1.0, -1.0, 1.0]\n",
      "[1.0, -1.0, -1.0, 1.0, -1.0, 1.0, -1.0, -1.0, 1.0, -1.0, -1.0, 1.0, -1.0, 1.0, -1.0, 1.0, 1.0, 1.0, 1.0, -1.0]\n"
     ]
    }
   ],
   "source": [
    "predictions = predict(model, X_test)\n",
    "print predictions\n",
    "print Y_test"
   ]
  },
  {
   "cell_type": "code",
   "execution_count": 159,
   "metadata": {
    "collapsed": false
   },
   "outputs": [
    {
     "name": "stdout",
     "output_type": "stream",
     "text": [
      "Accuracy: 0.4\n"
     ]
    }
   ],
   "source": [
    "corr = 0.0\n",
    "for i in range(len(Y_test)):\n",
    "    corr += 1.0 if Y_test[i] == predictions[i] else 0.0\n",
    "print \"Accuracy: \" + str(corr/len(Y_test))"
   ]
  },
  {
   "cell_type": "code",
   "execution_count": 160,
   "metadata": {
    "collapsed": false
   },
   "outputs": [
    {
     "data": {
      "image/png": "[encoded data removed]",
      "text/plain": [
       "<matplotlib.figure.Figure at 0x1081a7cd0>"
      ]
     },
     "metadata": {},
     "output_type": "display_data"
    }
   ],
   "source": [
    "xp = [(-3 + x * (6.0/100)) for x in range(100)]\n",
    "yp = [(-(model.w[0] * _xp + model.b)/model.w[1]) for _xp in xp]\n",
    "\n",
    "plt.figure(figsize=(15, 10))\n",
    "plt.axis(ax_size)\n",
    "x1pos, x2pos = zip(*Xpos)\n",
    "x1neg, x2neg = zip(*Xneg)\n",
    "plt.scatter(x1pos, x2pos, marker=('o'), s=50)\n",
    "plt.scatter(x1neg, x2neg, marker=('x'), s=50)\n",
    "plt.scatter(xp, yp, c='r', marker=('.'), s=2)\n",
    "plt.show()"
   ]
  },
  {
   "cell_type": "code",
   "execution_count": null,
   "metadata": {
    "collapsed": true
   },
   "outputs": [],
   "source": []
  }
 ],
 "metadata": {
  "kernelspec": {
   "display_name": "Python 2",
   "language": "python",
   "name": "python2"
  },
  "language_info": {
   "codemirror_mode": {
    "name": "ipython",
    "version": 2
   },
   "file_extension": ".py",
   "mimetype": "text/x-python",
   "name": "python",
   "nbconvert_exporter": "python",
   "pygments_lexer": "ipython2",
   "version": "2.7.10"
  }
 },
 "nbformat": 4,
 "nbformat_minor": 2
}
