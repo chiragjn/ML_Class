{
 "cells": [
  {
   "cell_type": "code",
   "execution_count": 6,
   "metadata": {
    "collapsed": false
   },
   "outputs": [
    {
     "name": "stdout",
     "output_type": "stream",
     "text": [
      "60 40\n"
     ]
    },
    {
     "data": {
      "image/png": "[encoded data removed]",
      "text/plain": [
       "<matplotlib.figure.Figure at 0x10d23fa90>"
      ]
     },
     "metadata": {},
     "output_type": "display_data"
    }
   ],
   "source": [
    "import csv\n",
    "import matplotlib.pyplot as plt\n",
    "import random\n",
    "from math import exp, log\n",
    "\n",
    "num_epochs = 100000\n",
    "learning_rate = 0.01\n",
    "ax_size = (0, 150, 0, 150)\n",
    "data_file_name = '2d_dataset1.csv'\n",
    "X = []\n",
    "Y = []\n",
    "Xpos = []\n",
    "Xneg = []\n",
    "Ypos = []\n",
    "Yneg = []\n",
    "\n",
    "csv_reader = csv.DictReader(open(data_file_name))\n",
    "for row in csv_reader:\n",
    "    x = (float(row['x1']), float(row['x2']))\n",
    "    y = float(row['y'])\n",
    "    X.append(x)\n",
    "    Y.append(y)\n",
    "\n",
    "xy = zip(X, Y)\n",
    "random.shuffle(xy)\n",
    "X, Y = zip(*xy)\n",
    "\n",
    "for x, y in xy:\n",
    "    Xneg.append(x) if y == 0 else Xpos.append(x)\n",
    "    Yneg.append(y) if y == 0 else Ypos.append(y)\n",
    "    \n",
    "print len(Xpos), len(Xneg)\n",
    "\n",
    "plt.figure(figsize=(15, 10))\n",
    "plt.axis(ax_size)\n",
    "x1pos, x2pos = zip(*Xpos)\n",
    "x1neg, x2neg = zip(*Xneg)\n",
    "plt.scatter(x1pos, x2pos, marker=('o'), s=50)\n",
    "plt.scatter(x1neg, x2neg, marker=('x'), s=50)\n",
    "plt.show()"
   ]
  },
  {
   "cell_type": "code",
   "execution_count": 7,
   "metadata": {
    "collapsed": false
   },
   "outputs": [],
   "source": [
    "split_idx = int(0.8 * len(Xpos))\n",
    "X_train = Xpos[:split_idx]\n",
    "Y_train = Ypos[:split_idx]\n",
    "X_test = Xpos[split_idx:]\n",
    "Y_test = Ypos[split_idx:]\n",
    "\n",
    "split_idx = int(0.8 * len(Xneg))\n",
    "X_train += Xneg[:split_idx]\n",
    "Y_train += Yneg[:split_idx]\n",
    "X_test += Xneg[split_idx:]\n",
    "Y_test += Yneg[split_idx:]"
   ]
  },
  {
   "cell_type": "code",
   "execution_count": 8,
   "metadata": {
    "collapsed": false
   },
   "outputs": [
    {
     "name": "stdout",
     "output_type": "stream",
     "text": [
      "[-39.06333278401391, 0.2771605724155649, 0.25072726569809434]\n",
      "[1.0, 1.0, 0.0, 1.0, 1.0, 1.0, 0.0, 1.0, 0.0, 0.0, 0.0, 1.0, 0.0, 0.0, 0.0, 0.0, 0.0, 0.0, 0.0, 0.0]\n",
      "[1.0, 1.0, 1.0, 1.0, 1.0, 1.0, 1.0, 1.0, 1.0, 1.0, 1.0, 1.0, 0.0, 0.0, 0.0, 0.0, 0.0, 0.0, 0.0, 0.0]\n",
      "accuarcy : 0.75\n"
     ]
    }
   ],
   "source": [
    "sig = lambda x: (1/(1 + exp(-x)))\n",
    "plt.ion()\n",
    "theta = [0.0, 0.0, 0.0]\n",
    "for _ in range(num_epochs):\n",
    "    cost = 0.0\n",
    "    theta_grads = [0.0, 0.0, 0.0]\n",
    "    for x, y in zip(X_train, Y_train):\n",
    "        pred = sig((x[1] * theta[2]) + (x[0] * theta[1]) + theta[0])\n",
    "        cost += y * log(pred) + (1 - log(pred)) * (1 - y)\n",
    "        theta_grads[0] += pred - y\n",
    "        theta_grads[1] += (pred - y) * x[0]\n",
    "        theta_grads[2] += (pred - y) * x[1]\n",
    "    cost = cost / (len(X))\n",
    "    theta[0] -= (learning_rate * (theta_grads[0]/len(X)))\n",
    "    theta[1] -= (learning_rate * (theta_grads[1]/len(X)))\n",
    "    theta[2] -= (learning_rate * (theta_grads[2]/len(X)))\n",
    "print theta\n",
    "\n",
    "predictions = [1.0 if (sig((x[1] * theta[2]) + (x[0] * theta[1]) + theta[0]) >= 0.5) else 0.0 for x in X_test]\n",
    "print predictions\n",
    "print Y_test\n",
    "corr = [1 if predictions[i] == Y_test[i] else 0 for i in range(len(predictions))]\n",
    "print \"accuarcy : \" + str((sum(corr) * 1.0)/len(corr))\n"
   ]
  },
  {
   "cell_type": "code",
   "execution_count": null,
   "metadata": {
    "collapsed": true
   },
   "outputs": [],
   "source": []
  }
 ],
 "metadata": {
  "kernelspec": {
   "display_name": "Python 2",
   "language": "python",
   "name": "python2"
  },
  "language_info": {
   "codemirror_mode": {
    "name": "ipython",
    "version": 2
   },
   "file_extension": ".py",
   "mimetype": "text/x-python",
   "name": "python",
   "nbconvert_exporter": "python",
   "pygments_lexer": "ipython2",
   "version": "2.7.10"
  }
 },
 "nbformat": 4,
 "nbformat_minor": 1
}
